{
 "cells": [
  {
   "cell_type": "markdown",
   "id": "52d3a943",
   "metadata": {},
   "source": [
    "<img src='http://www-scf.usc.edu/~ghasemig/images/sharif.png' alt=\"SUT logo\" width=200 height=200 align=left class=\"saturate\" >\n",
    "\n",
    "<br>\n",
    "<font face=\"Times New Roman\">\n",
    "<div dir=ltr align=center>\n",
    "<font color=0F5298 size=7>\n",
    "    Introduction to Machine Learning <br>\n",
    "<font color=2565AE size=5>\n",
    "    Computer Engineering Department <br>\n",
    "    Fall 2022<br>\n",
    "<font color=3C99D size=5>\n",
    "    Homework 3: Practical - ML Models for Tabular Datasets <br>\n",
    "<font color=696880 size=4>\n",
    "    Niloufar Razani \n",
    "    \n",
    "    \n",
    "____"
   ]
  },
  {
   "cell_type": "markdown",
   "id": "afcf1f24",
   "metadata": {},
   "source": [
    "### Full Name : Amir Hosein Haji Mohammad rezaie\n",
    "### Student Number : 99109252\n",
    "___"
   ]
  },
  {
   "cell_type": "markdown",
   "id": "8c097381",
   "metadata": {},
   "source": [
    "<font face=\"Times New Roman\" size=4><div dir=ltr>\n",
    "In this homework we are going to implement Adaboost algorithm from scratch. Please read this chapter's <a href=\"https://github.com/asharifiz/Introduction_to_Machine_Learning/tree/main/Jupyter_Notebooks/Chapter_04_Tabular_Data_Models\"><font face=\"Roboto\">notebook</font></a> and then complete the #TODO sections. <br>\n",
    "We will use the heart_disease.csv dataset, which you can see more details about in this <a href=\"https://www.kaggle.com/datasets/johnsmith88/heart-disease-dataset?resource=download&select=heart.csv\"><font face=\"Roboto\">Link</font></a>.\n",
    "___"
   ]
  },
  {
   "cell_type": "code",
   "execution_count": 1,
   "id": "1a687a71",
   "metadata": {},
   "outputs": [],
   "source": [
    "import numpy as np\n",
    "import pandas as pd\n",
    "import seaborn as sns\n",
    "import matplotlib.pyplot as plt"
   ]
  },
  {
   "cell_type": "markdown",
   "id": "3b152c1e",
   "metadata": {},
   "source": [
    "### Data Prepration (10 points) \n",
    "1.   Load Dataset\n",
    "2.   Separate target feaure\n",
    "3.   Change class labels to 1 and -1\n",
    "4.   Do train-test split"
   ]
  },
  {
   "cell_type": "code",
   "execution_count": 2,
   "id": "159d3986",
   "metadata": {},
   "outputs": [],
   "source": [
    "#TODO\n",
    "\n",
    "from sklearn.model_selection import train_test_split\n",
    "\n",
    "df = pd.read_csv('heart_disease.csv')\n",
    "\n",
    "y = df['target'].copy()\n",
    "X = df.drop('target', axis=1)\n",
    "\n",
    "y = 2 * y - 1\n",
    "\n",
    "\n",
    "X = X.to_numpy()\n",
    "y = y.to_numpy()\n",
    "\n",
    "X_train, X_test, y_train, y_test = train_test_split(X, y, test_size = 0.33, random_state = 1)\n"
   ]
  },
  {
   "cell_type": "markdown",
   "id": "695a1fc7",
   "metadata": {},
   "source": [
    "### Adaboost Algorithm Implementation (40 points)"
   ]
  },
  {
   "cell_type": "code",
   "execution_count": 3,
   "id": "95f76156",
   "metadata": {},
   "outputs": [],
   "source": [
    "from sklearn.tree import DecisionTreeClassifier\n",
    "\n",
    "def calculate_error(y, y_pred, w):\n",
    "    #TODO : Calculate the weighted error of a weak classifier.\n",
    "    \n",
    "    error = 0\n",
    "    for i in range(len(y)):\n",
    "        if y[i] != y_pred[i]:\n",
    "            error += w[i]\n",
    "            \n",
    "    weighted_error = error/np.sum(w)\n",
    "    \n",
    "    return weighted_error\n",
    "    \n",
    "\n",
    "def calculate_alpha(error):\n",
    "    #TODO : Calculate the weight of a weak classifier.\n",
    "    \n",
    "    return np.log((1-error)/error)\n",
    "    \n",
    "\n",
    "def update_weights(w, alpha, y, y_pred):\n",
    "    #TODO : Update weights after a boosting iteration.\n",
    "    new_w = w.copy()\n",
    "    \n",
    "    for i in range(len(y)):\n",
    "        if y[i] != y_pred[i]:\n",
    "            new_w[i] *= np.exp(alpha)\n",
    "            \n",
    "    return new_w\n",
    "    \n",
    "\n",
    "    \n",
    "class AdaBoost:\n",
    "    \n",
    "    def __init__(self):\n",
    "        self.alphas = []\n",
    "        self.G_M = []\n",
    "        self.training_errors = []\n",
    "\n",
    "    def fit(self, X, y, M = 100):\n",
    "        \n",
    "        self.alphas = [] \n",
    "        self.training_errors = []\n",
    "        self.M = M\n",
    "\n",
    "        for m in range(0, M):\n",
    "            \n",
    "            # Set weights\n",
    "            \n",
    "            if m == 0:\n",
    "                w = np.ones(X.shape[0])/X.shape[0]\n",
    "                 \n",
    "            else:\n",
    "                w = update_weights(w, alpha, y, y_pred)\n",
    "               \n",
    "            \n",
    "            # 1. Fit weak classifier and predict labels(using predict method) and Save it to list of weak classifiers.\n",
    "            weak_learner = DecisionTreeClassifier(max_depth = 1)\n",
    "            weak_learner.fit(X, y, sample_weight = w)\n",
    "            y_pred = weak_learner.predict(X)\n",
    "            self.G_M.append(weak_learner)\n",
    "\n",
    "            # 2. Calculate error of this weak classifier and save it to list of trainingterrors.\n",
    "            error = calculate_error(y, y_pred, w)\n",
    "            self.training_errors.append(error)\n",
    "\n",
    "            # 3. Calculate alpha of this weak classifier and save it to list of alphas.\n",
    "            alpha = calculate_alpha(error)\n",
    "            self.alphas.append(alpha)\n",
    "\n",
    "\n",
    "\n",
    "    def predict(self, X):\n",
    "\n",
    "        weak_preds = pd.DataFrame(index = range(len(X)), columns = range(self.M)) \n",
    "\n",
    "        for m in range(self.M):\n",
    "            y_pred_m = self.G_M[m].predict(X) * self.alphas[m]\n",
    "            weak_preds.iloc[:,m] = y_pred_m\n",
    "\n",
    "        y_pred = (1 * np.sign(weak_preds.T.sum())).astype(int)\n",
    "\n",
    "        return y_pred"
   ]
  },
  {
   "cell_type": "markdown",
   "id": "f27f8987",
   "metadata": {},
   "source": [
    "### Training and Evaluation (20 points)"
   ]
  },
  {
   "cell_type": "code",
   "execution_count": 4,
   "id": "2986c7a1",
   "metadata": {},
   "outputs": [
    {
     "name": "stdout",
     "output_type": "stream",
     "text": [
      "accuracy=  0.8672566371681416\n",
      "precision=  0.8314606741573034\n",
      "recall=  0.9079754601226994\n",
      "f1-score=  0.8680351906158358\n"
     ]
    }
   ],
   "source": [
    "from sklearn.metrics import accuracy_score, precision_score, recall_score, f1_score\n",
    "#TODO : Fit model\n",
    "\n",
    "adaboost = AdaBoost()\n",
    "\n",
    "adaboost.fit(X_train, y_train)\n",
    "\n",
    "#TODO : Predict on test data\n",
    "\n",
    "y_pred = adaboost.predict(X_test)\n",
    "\n",
    "#TODO : Print evaluation metrics (Accurcy, Precission, Recall and f-score)\n",
    "accuracy = accuracy_score(y_test, y_pred)\n",
    "precision = precision_score(y_test, y_pred)\n",
    "recall = recall_score(y_test, y_pred)\n",
    "f1 = f1_score(y_test, y_pred)\n",
    "\n",
    "print('accuracy= ', accuracy)\n",
    "print('precision= ', precision)\n",
    "print('recall= ', recall)\n",
    "print('f1-score= ', f1)"
   ]
  },
  {
   "cell_type": "code",
   "execution_count": 5,
   "id": "39bb9216",
   "metadata": {},
   "outputs": [
    {
     "name": "stdout",
     "output_type": "stream",
     "text": [
      "accuracy=  0.911504424778761\n",
      "precision=  0.9030303030303031\n",
      "recall=  0.9141104294478528\n",
      "f1-score=  0.9085365853658537\n"
     ]
    }
   ],
   "source": [
    "#TODO : Do Scikit-Learn implementation of AdaBoost and print evaluation metrics\n",
    "from sklearn.ensemble import AdaBoostClassifier\n",
    "\n",
    "adaboost2 = AdaBoostClassifier(n_estimators=100)\n",
    "adaboost2.fit(X_train, y_train)\n",
    "y_pred = adaboost2.predict(X_test)\n",
    "\n",
    "accuracy = accuracy_score(y_test, y_pred)\n",
    "precision = precision_score(y_test, y_pred)\n",
    "recall = recall_score(y_test, y_pred)\n",
    "f1 = f1_score(y_test, y_pred)\n",
    "\n",
    "print('accuracy= ', accuracy)\n",
    "print('precision= ', precision)\n",
    "print('recall= ', recall)\n",
    "print('f1-score= ', f1)"
   ]
  },
  {
   "cell_type": "markdown",
   "id": "e8fdcb6d",
   "metadata": {},
   "source": [
    "### Early Stopping (15 points)"
   ]
  },
  {
   "cell_type": "code",
   "execution_count": 6,
   "id": "ac86c294",
   "metadata": {},
   "outputs": [],
   "source": [
    "#TODO : Calculate validation error for different number of estimators\n",
    "from sklearn.metrics import accuracy_score, mean_squared_error\n",
    "\n",
    "validation_errors = []\n",
    "for m in range(1, 100):\n",
    "    model = AdaBoost()\n",
    "    model.fit(X_train, y_train, M=m)\n",
    "    y_pred = model.predict(X_test)\n",
    "    error = mean_squared_error(y_test, y_pred)\n",
    "    validation_errors.append(error)"
   ]
  },
  {
   "cell_type": "code",
   "execution_count": 7,
   "id": "d6e06fea",
   "metadata": {},
   "outputs": [
    {
     "data": {
      "image/png": "[encoded data removed]",
      "text/plain": [
       "<Figure size 432x288 with 1 Axes>"
      ]
     },
     "metadata": {
      "needs_background": "light"
     },
     "output_type": "display_data"
    }
   ],
   "source": [
    "#TODO : Plot validation error versus number of estimators figure.\n",
    "plt.plot(validation_errors)\n",
    "plt.xlabel('number of estmators')\n",
    "plt.ylabel('validation error')\n",
    "plt.show()"
   ]
  },
  {
   "cell_type": "code",
   "execution_count": 8,
   "id": "cdfac096",
   "metadata": {},
   "outputs": [
    {
     "name": "stdout",
     "output_type": "stream",
     "text": [
      "best number of estimators = 79\n"
     ]
    }
   ],
   "source": [
    "#TODO : Print the best number for estimators and minimum value for validation error.\n",
    "best = np.argmin(validation_errors) + 1\n",
    "print('best number of estimators =', best)"
   ]
  },
  {
   "cell_type": "markdown",
   "id": "ec46a972",
   "metadata": {},
   "source": [
    "### Weighted Error (10 points)"
   ]
  },
  {
   "cell_type": "code",
   "execution_count": 9,
   "id": "7471664f",
   "metadata": {},
   "outputs": [
    {
     "data": {
      "image/png": "[encoded data removed]",
      "text/plain": [
       "<Figure size 432x288 with 1 Axes>"
      ]
     },
     "metadata": {
      "needs_background": "light"
     },
     "output_type": "display_data"
    }
   ],
   "source": [
    "#TODO : Plot weighted training error versus number of estimators figure using training_errors attribute in Adaboost class.\n",
    "plt.plot(adaboost.training_errors)\n",
    "plt.ylabel('training errors')\n",
    "plt.xlabel('number of estimators')\n",
    "plt.show()"
   ]
  },
  {
   "cell_type": "markdown",
   "id": "22f513e8",
   "metadata": {},
   "source": [
    "### Question : Why does the weighted error tend to increase as the number of estimators increase? (5points)"
   ]
  },
  {
   "cell_type": "markdown",
   "id": "0303075d-0f1f-4417-a1f4-71dce6284107",
   "metadata": {},
   "source": [
    "Answer:the reason is that the trees overfit to the data as the number of ertimators increase."
   ]
  }
 ],
 "metadata": {
  "kernelspec": {
   "display_name": "Python 3 (ipykernel)",
   "language": "python",
   "name": "python3"
  },
  "language_info": {
   "codemirror_mode": {
    "name": "ipython",
    "version": 3
   },
   "file_extension": ".py",
   "mimetype": "text/x-python",
   "name": "python",
   "nbconvert_exporter": "python",
   "pygments_lexer": "ipython3",
   "version": "3.10.0"
  }
 },
 "nbformat": 4,
 "nbformat_minor": 5
}
