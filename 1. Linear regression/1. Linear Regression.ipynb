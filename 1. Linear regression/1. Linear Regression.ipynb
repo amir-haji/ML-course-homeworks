{
 "cells": [
  {
   "cell_type": "markdown",
   "id": "16adc323",
   "metadata": {
    "id": "16adc323"
   },
   "source": [
    "<br><font face=\"Times New Roman\" size=5><div dir=ltr align=center>\n",
    "<font color=blue size=8>\n",
    "    Introduction to Machine Learning <br>\n",
    "<font color=red size=5>\n",
    "    Sharif University of Technology - Computer Engineering Department <br>\n",
    "    Fall 2022<br> <br>\n",
    "<font color=black size=6>\n",
    "    Homework 2: Practical - Linear Regression\n",
    "    </div>\n",
    "<br><br>\n",
    "<font size=4>\n",
    "   **Name**: Amir hosein Haji mohammad rezaie<br>\n",
    "   **Student ID**: 99109252<br> <br>"
   ]
  },
  {
   "cell_type": "markdown",
   "id": "2585264a",
   "metadata": {
    "id": "2585264a",
    "tags": []
   },
   "source": [
    "<font face=\"Times New Roman\" size=4><div dir=ltr>\n",
    "# Problem 1: Linear Regression Model (40 + 30 optional points)\n",
    "According to <a href=\"https://github.com/asharifiz/Introduction_to_Machine_Learning/blob/main/Jupyter_Notebooks/Chapter_02_Classical_Models/Linear%20regression.ipynb\"><font face=\"Roboto\">Linear Regression Notebook</font></a>, train a linear regression model on an arbitrary dataset. Explain your chosen dataset and split your data into train and test sets, then predict values for the test set using your trained model. Try to find the best hyperparameters for your model. (Using Lasso Regression, Ridge Regression or Elastic Net and comparing them will have extra optional points)\n",
    "<br> Explain each step of your workflow."
   ]
  },
  {
   "cell_type": "code",
   "execution_count": 1,
   "id": "387d3a07",
   "metadata": {
    "id": "387d3a07"
   },
   "outputs": [],
   "source": [
    "import pandas as pd\n",
    "import numpy as np\n",
    "import sklearn\n",
    "import math\n",
    "from sklearn.model_selection import train_test_split\n",
    "import matplotlib.pyplot as plt"
   ]
  },
  {
   "cell_type": "markdown",
   "id": "ac4c4daa-e28c-4a93-bcb4-a5cb2865f017",
   "metadata": {
    "id": "ac4c4daa-e28c-4a93-bcb4-a5cb2865f017"
   },
   "source": [
    "In this notebook, we use Fish market dataset. This dataset contains informations such as weight, width, height, diagonal length, .... You can find more information about this dataset [here](https://www.kaggle.com/datasets/aungpyaeap/fish-market)"
   ]
  },
  {
   "cell_type": "code",
   "execution_count": 2,
   "id": "c673b0a9-d65c-4830-9f9c-1cb82093151e",
   "metadata": {
    "colab": {
     "base_uri": "https://localhost:8080/",
     "height": 206
    },
    "id": "c673b0a9-d65c-4830-9f9c-1cb82093151e",
    "outputId": "28b231e5-20d3-4e27-ceba-3a75ba1e763c"
   },
   "outputs": [
    {
     "data": {
      "text/html": [
       "<div>\n",
       "<style scoped>\n",
       "    .dataframe tbody tr th:only-of-type {\n",
       "        vertical-align: middle;\n",
       "    }\n",
       "\n",
       "    .dataframe tbody tr th {\n",
       "        vertical-align: top;\n",
       "    }\n",
       "\n",
       "    .dataframe thead th {\n",
       "        text-align: right;\n",
       "    }\n",
       "</style>\n",
       "<table border=\"1\" class=\"dataframe\">\n",
       "  <thead>\n",
       "    <tr style=\"text-align: right;\">\n",
       "      <th></th>\n",
       "      <th>Species</th>\n",
       "      <th>Weight</th>\n",
       "      <th>Length1</th>\n",
       "      <th>Length2</th>\n",
       "      <th>Length3</th>\n",
       "      <th>Height</th>\n",
       "      <th>Width</th>\n",
       "    </tr>\n",
       "  </thead>\n",
       "  <tbody>\n",
       "    <tr>\n",
       "      <th>0</th>\n",
       "      <td>Bream</td>\n",
       "      <td>242.0</td>\n",
       "      <td>23.2</td>\n",
       "      <td>25.4</td>\n",
       "      <td>30.0</td>\n",
       "      <td>11.5200</td>\n",
       "      <td>4.0200</td>\n",
       "    </tr>\n",
       "    <tr>\n",
       "      <th>1</th>\n",
       "      <td>Bream</td>\n",
       "      <td>290.0</td>\n",
       "      <td>24.0</td>\n",
       "      <td>26.3</td>\n",
       "      <td>31.2</td>\n",
       "      <td>12.4800</td>\n",
       "      <td>4.3056</td>\n",
       "    </tr>\n",
       "    <tr>\n",
       "      <th>2</th>\n",
       "      <td>Bream</td>\n",
       "      <td>340.0</td>\n",
       "      <td>23.9</td>\n",
       "      <td>26.5</td>\n",
       "      <td>31.1</td>\n",
       "      <td>12.3778</td>\n",
       "      <td>4.6961</td>\n",
       "    </tr>\n",
       "    <tr>\n",
       "      <th>3</th>\n",
       "      <td>Bream</td>\n",
       "      <td>363.0</td>\n",
       "      <td>26.3</td>\n",
       "      <td>29.0</td>\n",
       "      <td>33.5</td>\n",
       "      <td>12.7300</td>\n",
       "      <td>4.4555</td>\n",
       "    </tr>\n",
       "    <tr>\n",
       "      <th>4</th>\n",
       "      <td>Bream</td>\n",
       "      <td>430.0</td>\n",
       "      <td>26.5</td>\n",
       "      <td>29.0</td>\n",
       "      <td>34.0</td>\n",
       "      <td>12.4440</td>\n",
       "      <td>5.1340</td>\n",
       "    </tr>\n",
       "  </tbody>\n",
       "</table>\n",
       "</div>"
      ],
      "text/plain": [
       "  Species  Weight  Length1  Length2  Length3   Height   Width\n",
       "0   Bream   242.0     23.2     25.4     30.0  11.5200  4.0200\n",
       "1   Bream   290.0     24.0     26.3     31.2  12.4800  4.3056\n",
       "2   Bream   340.0     23.9     26.5     31.1  12.3778  4.6961\n",
       "3   Bream   363.0     26.3     29.0     33.5  12.7300  4.4555\n",
       "4   Bream   430.0     26.5     29.0     34.0  12.4440  5.1340"
      ]
     },
     "execution_count": 2,
     "metadata": {},
     "output_type": "execute_result"
    }
   ],
   "source": [
    "df = pd.read_csv('Fish.csv')\n",
    "df.head()"
   ]
  },
  {
   "cell_type": "code",
   "execution_count": 3,
   "id": "df834fdd-0529-4f16-94ec-5db7df850669",
   "metadata": {
    "colab": {
     "base_uri": "https://localhost:8080/",
     "height": 206
    },
    "id": "df834fdd-0529-4f16-94ec-5db7df850669",
    "outputId": "af78223a-7e1a-48c0-994f-f4544c59e898"
   },
   "outputs": [
    {
     "data": {
      "text/html": [
       "<div>\n",
       "<style scoped>\n",
       "    .dataframe tbody tr th:only-of-type {\n",
       "        vertical-align: middle;\n",
       "    }\n",
       "\n",
       "    .dataframe tbody tr th {\n",
       "        vertical-align: top;\n",
       "    }\n",
       "\n",
       "    .dataframe thead th {\n",
       "        text-align: right;\n",
       "    }\n",
       "</style>\n",
       "<table border=\"1\" class=\"dataframe\">\n",
       "  <thead>\n",
       "    <tr style=\"text-align: right;\">\n",
       "      <th></th>\n",
       "      <th>Species</th>\n",
       "      <th>Weight</th>\n",
       "      <th>Length1</th>\n",
       "      <th>Length2</th>\n",
       "      <th>Length3</th>\n",
       "      <th>Height</th>\n",
       "      <th>Width</th>\n",
       "    </tr>\n",
       "  </thead>\n",
       "  <tbody>\n",
       "    <tr>\n",
       "      <th>154</th>\n",
       "      <td>Smelt</td>\n",
       "      <td>12.2</td>\n",
       "      <td>11.5</td>\n",
       "      <td>12.2</td>\n",
       "      <td>13.4</td>\n",
       "      <td>2.0904</td>\n",
       "      <td>1.3936</td>\n",
       "    </tr>\n",
       "    <tr>\n",
       "      <th>155</th>\n",
       "      <td>Smelt</td>\n",
       "      <td>13.4</td>\n",
       "      <td>11.7</td>\n",
       "      <td>12.4</td>\n",
       "      <td>13.5</td>\n",
       "      <td>2.4300</td>\n",
       "      <td>1.2690</td>\n",
       "    </tr>\n",
       "    <tr>\n",
       "      <th>156</th>\n",
       "      <td>Smelt</td>\n",
       "      <td>12.2</td>\n",
       "      <td>12.1</td>\n",
       "      <td>13.0</td>\n",
       "      <td>13.8</td>\n",
       "      <td>2.2770</td>\n",
       "      <td>1.2558</td>\n",
       "    </tr>\n",
       "    <tr>\n",
       "      <th>157</th>\n",
       "      <td>Smelt</td>\n",
       "      <td>19.7</td>\n",
       "      <td>13.2</td>\n",
       "      <td>14.3</td>\n",
       "      <td>15.2</td>\n",
       "      <td>2.8728</td>\n",
       "      <td>2.0672</td>\n",
       "    </tr>\n",
       "    <tr>\n",
       "      <th>158</th>\n",
       "      <td>Smelt</td>\n",
       "      <td>19.9</td>\n",
       "      <td>13.8</td>\n",
       "      <td>15.0</td>\n",
       "      <td>16.2</td>\n",
       "      <td>2.9322</td>\n",
       "      <td>1.8792</td>\n",
       "    </tr>\n",
       "  </tbody>\n",
       "</table>\n",
       "</div>"
      ],
      "text/plain": [
       "    Species  Weight  Length1  Length2  Length3  Height   Width\n",
       "154   Smelt    12.2     11.5     12.2     13.4  2.0904  1.3936\n",
       "155   Smelt    13.4     11.7     12.4     13.5  2.4300  1.2690\n",
       "156   Smelt    12.2     12.1     13.0     13.8  2.2770  1.2558\n",
       "157   Smelt    19.7     13.2     14.3     15.2  2.8728  2.0672\n",
       "158   Smelt    19.9     13.8     15.0     16.2  2.9322  1.8792"
      ]
     },
     "execution_count": 3,
     "metadata": {},
     "output_type": "execute_result"
    }
   ],
   "source": [
    "df.tail()"
   ]
  },
  {
   "cell_type": "markdown",
   "id": "f7ccbee7-4707-4a52-82cd-c634f28c65a2",
   "metadata": {
    "id": "f7ccbee7-4707-4a52-82cd-c634f28c65a2"
   },
   "source": [
    "here we want to predict weight of a fish by giving parameters such as width, height, Length1, ... to out linear regression model to predict weight. so first we split weight column from other columns in out data frame."
   ]
  },
  {
   "cell_type": "code",
   "execution_count": 4,
   "id": "5932dd2a-357b-46f9-8f9b-f5e93318967a",
   "metadata": {
    "colab": {
     "base_uri": "https://localhost:8080/"
    },
    "id": "5932dd2a-357b-46f9-8f9b-f5e93318967a",
    "outputId": "77b862c8-fd05-4e9e-952e-cf3b6ce8e46e"
   },
   "outputs": [
    {
     "data": {
      "text/plain": [
       "0      242.0\n",
       "1      290.0\n",
       "2      340.0\n",
       "3      363.0\n",
       "4      430.0\n",
       "       ...  \n",
       "154     12.2\n",
       "155     13.4\n",
       "156     12.2\n",
       "157     19.7\n",
       "158     19.9\n",
       "Name: Weight, Length: 159, dtype: float64"
      ]
     },
     "execution_count": 4,
     "metadata": {},
     "output_type": "execute_result"
    }
   ],
   "source": [
    "y = df.iloc[:,1]\n",
    "X = df.iloc[:,2:]\n",
    "y"
   ]
  },
  {
   "cell_type": "markdown",
   "id": "994cf961-49e0-4f02-b477-9d703715a88f",
   "metadata": {
    "id": "994cf961-49e0-4f02-b477-9d703715a88f"
   },
   "source": [
    "X is the input parameters to model and y is the output results (weight results) that we get from model."
   ]
  },
  {
   "cell_type": "code",
   "execution_count": 5,
   "id": "76fb7b5a-7aa8-4b03-bc9d-481496a1695b",
   "metadata": {
    "colab": {
     "base_uri": "https://localhost:8080/",
     "height": 424
    },
    "id": "76fb7b5a-7aa8-4b03-bc9d-481496a1695b",
    "outputId": "05c9db9e-aa82-402c-ca34-641fd8f0e8b3"
   },
   "outputs": [
    {
     "data": {
      "text/html": [
       "<div>\n",
       "<style scoped>\n",
       "    .dataframe tbody tr th:only-of-type {\n",
       "        vertical-align: middle;\n",
       "    }\n",
       "\n",
       "    .dataframe tbody tr th {\n",
       "        vertical-align: top;\n",
       "    }\n",
       "\n",
       "    .dataframe thead th {\n",
       "        text-align: right;\n",
       "    }\n",
       "</style>\n",
       "<table border=\"1\" class=\"dataframe\">\n",
       "  <thead>\n",
       "    <tr style=\"text-align: right;\">\n",
       "      <th></th>\n",
       "      <th>Length1</th>\n",
       "      <th>Length2</th>\n",
       "      <th>Length3</th>\n",
       "      <th>Height</th>\n",
       "      <th>Width</th>\n",
       "    </tr>\n",
       "  </thead>\n",
       "  <tbody>\n",
       "    <tr>\n",
       "      <th>0</th>\n",
       "      <td>23.2</td>\n",
       "      <td>25.4</td>\n",
       "      <td>30.0</td>\n",
       "      <td>11.5200</td>\n",
       "      <td>4.0200</td>\n",
       "    </tr>\n",
       "    <tr>\n",
       "      <th>1</th>\n",
       "      <td>24.0</td>\n",
       "      <td>26.3</td>\n",
       "      <td>31.2</td>\n",
       "      <td>12.4800</td>\n",
       "      <td>4.3056</td>\n",
       "    </tr>\n",
       "    <tr>\n",
       "      <th>2</th>\n",
       "      <td>23.9</td>\n",
       "      <td>26.5</td>\n",
       "      <td>31.1</td>\n",
       "      <td>12.3778</td>\n",
       "      <td>4.6961</td>\n",
       "    </tr>\n",
       "    <tr>\n",
       "      <th>3</th>\n",
       "      <td>26.3</td>\n",
       "      <td>29.0</td>\n",
       "      <td>33.5</td>\n",
       "      <td>12.7300</td>\n",
       "      <td>4.4555</td>\n",
       "    </tr>\n",
       "    <tr>\n",
       "      <th>4</th>\n",
       "      <td>26.5</td>\n",
       "      <td>29.0</td>\n",
       "      <td>34.0</td>\n",
       "      <td>12.4440</td>\n",
       "      <td>5.1340</td>\n",
       "    </tr>\n",
       "    <tr>\n",
       "      <th>...</th>\n",
       "      <td>...</td>\n",
       "      <td>...</td>\n",
       "      <td>...</td>\n",
       "      <td>...</td>\n",
       "      <td>...</td>\n",
       "    </tr>\n",
       "    <tr>\n",
       "      <th>154</th>\n",
       "      <td>11.5</td>\n",
       "      <td>12.2</td>\n",
       "      <td>13.4</td>\n",
       "      <td>2.0904</td>\n",
       "      <td>1.3936</td>\n",
       "    </tr>\n",
       "    <tr>\n",
       "      <th>155</th>\n",
       "      <td>11.7</td>\n",
       "      <td>12.4</td>\n",
       "      <td>13.5</td>\n",
       "      <td>2.4300</td>\n",
       "      <td>1.2690</td>\n",
       "    </tr>\n",
       "    <tr>\n",
       "      <th>156</th>\n",
       "      <td>12.1</td>\n",
       "      <td>13.0</td>\n",
       "      <td>13.8</td>\n",
       "      <td>2.2770</td>\n",
       "      <td>1.2558</td>\n",
       "    </tr>\n",
       "    <tr>\n",
       "      <th>157</th>\n",
       "      <td>13.2</td>\n",
       "      <td>14.3</td>\n",
       "      <td>15.2</td>\n",
       "      <td>2.8728</td>\n",
       "      <td>2.0672</td>\n",
       "    </tr>\n",
       "    <tr>\n",
       "      <th>158</th>\n",
       "      <td>13.8</td>\n",
       "      <td>15.0</td>\n",
       "      <td>16.2</td>\n",
       "      <td>2.9322</td>\n",
       "      <td>1.8792</td>\n",
       "    </tr>\n",
       "  </tbody>\n",
       "</table>\n",
       "<p>159 rows × 5 columns</p>\n",
       "</div>"
      ],
      "text/plain": [
       "     Length1  Length2  Length3   Height   Width\n",
       "0       23.2     25.4     30.0  11.5200  4.0200\n",
       "1       24.0     26.3     31.2  12.4800  4.3056\n",
       "2       23.9     26.5     31.1  12.3778  4.6961\n",
       "3       26.3     29.0     33.5  12.7300  4.4555\n",
       "4       26.5     29.0     34.0  12.4440  5.1340\n",
       "..       ...      ...      ...      ...     ...\n",
       "154     11.5     12.2     13.4   2.0904  1.3936\n",
       "155     11.7     12.4     13.5   2.4300  1.2690\n",
       "156     12.1     13.0     13.8   2.2770  1.2558\n",
       "157     13.2     14.3     15.2   2.8728  2.0672\n",
       "158     13.8     15.0     16.2   2.9322  1.8792\n",
       "\n",
       "[159 rows x 5 columns]"
      ]
     },
     "execution_count": 5,
     "metadata": {},
     "output_type": "execute_result"
    }
   ],
   "source": [
    "X"
   ]
  },
  {
   "cell_type": "markdown",
   "id": "770bd36b-5c48-4601-8ed9-e7353d8f6020",
   "metadata": {
    "id": "770bd36b-5c48-4601-8ed9-e7353d8f6020"
   },
   "source": [
    "Here we split our dataset to train and test sets with ratio of 7/3"
   ]
  },
  {
   "cell_type": "code",
   "execution_count": 6,
   "id": "ce709b97-5e4f-4be3-9135-a8a6c0d51213",
   "metadata": {
    "id": "ce709b97-5e4f-4be3-9135-a8a6c0d51213"
   },
   "outputs": [],
   "source": [
    "X_train, X_test, y_train, y_test = train_test_split(X, y, train_size=0.7, random_state=1)"
   ]
  },
  {
   "cell_type": "code",
   "execution_count": 7,
   "id": "8bf2048b-a068-46c6-b3fc-0c821cfc0bd7",
   "metadata": {
    "colab": {
     "base_uri": "https://localhost:8080/",
     "height": 424
    },
    "id": "8bf2048b-a068-46c6-b3fc-0c821cfc0bd7",
    "outputId": "f6943903-0f48-48cf-904a-ea14fe67e77f"
   },
   "outputs": [
    {
     "data": {
      "text/html": [
       "<div>\n",
       "<style scoped>\n",
       "    .dataframe tbody tr th:only-of-type {\n",
       "        vertical-align: middle;\n",
       "    }\n",
       "\n",
       "    .dataframe tbody tr th {\n",
       "        vertical-align: top;\n",
       "    }\n",
       "\n",
       "    .dataframe thead th {\n",
       "        text-align: right;\n",
       "    }\n",
       "</style>\n",
       "<table border=\"1\" class=\"dataframe\">\n",
       "  <thead>\n",
       "    <tr style=\"text-align: right;\">\n",
       "      <th></th>\n",
       "      <th>Length1</th>\n",
       "      <th>Length2</th>\n",
       "      <th>Length3</th>\n",
       "      <th>Height</th>\n",
       "      <th>Width</th>\n",
       "    </tr>\n",
       "  </thead>\n",
       "  <tbody>\n",
       "    <tr>\n",
       "      <th>53</th>\n",
       "      <td>25.0</td>\n",
       "      <td>27.0</td>\n",
       "      <td>30.6</td>\n",
       "      <td>8.5680</td>\n",
       "      <td>4.7736</td>\n",
       "    </tr>\n",
       "    <tr>\n",
       "      <th>117</th>\n",
       "      <td>36.5</td>\n",
       "      <td>39.0</td>\n",
       "      <td>41.4</td>\n",
       "      <td>11.1366</td>\n",
       "      <td>6.0030</td>\n",
       "    </tr>\n",
       "    <tr>\n",
       "      <th>136</th>\n",
       "      <td>40.1</td>\n",
       "      <td>43.0</td>\n",
       "      <td>45.8</td>\n",
       "      <td>7.7860</td>\n",
       "      <td>5.1296</td>\n",
       "    </tr>\n",
       "    <tr>\n",
       "      <th>17</th>\n",
       "      <td>30.4</td>\n",
       "      <td>33.0</td>\n",
       "      <td>38.5</td>\n",
       "      <td>14.9380</td>\n",
       "      <td>5.1975</td>\n",
       "    </tr>\n",
       "    <tr>\n",
       "      <th>77</th>\n",
       "      <td>16.2</td>\n",
       "      <td>18.0</td>\n",
       "      <td>19.2</td>\n",
       "      <td>5.2224</td>\n",
       "      <td>3.3216</td>\n",
       "    </tr>\n",
       "    <tr>\n",
       "      <th>...</th>\n",
       "      <td>...</td>\n",
       "      <td>...</td>\n",
       "      <td>...</td>\n",
       "      <td>...</td>\n",
       "      <td>...</td>\n",
       "    </tr>\n",
       "    <tr>\n",
       "      <th>133</th>\n",
       "      <td>36.0</td>\n",
       "      <td>38.5</td>\n",
       "      <td>41.0</td>\n",
       "      <td>6.3960</td>\n",
       "      <td>3.9770</td>\n",
       "    </tr>\n",
       "    <tr>\n",
       "      <th>137</th>\n",
       "      <td>42.0</td>\n",
       "      <td>45.0</td>\n",
       "      <td>48.0</td>\n",
       "      <td>6.9600</td>\n",
       "      <td>4.8960</td>\n",
       "    </tr>\n",
       "    <tr>\n",
       "      <th>72</th>\n",
       "      <td>7.5</td>\n",
       "      <td>8.4</td>\n",
       "      <td>8.8</td>\n",
       "      <td>2.1120</td>\n",
       "      <td>1.4080</td>\n",
       "    </tr>\n",
       "    <tr>\n",
       "      <th>140</th>\n",
       "      <td>48.3</td>\n",
       "      <td>51.7</td>\n",
       "      <td>55.1</td>\n",
       "      <td>8.9262</td>\n",
       "      <td>6.1712</td>\n",
       "    </tr>\n",
       "    <tr>\n",
       "      <th>37</th>\n",
       "      <td>17.5</td>\n",
       "      <td>18.8</td>\n",
       "      <td>21.2</td>\n",
       "      <td>5.5756</td>\n",
       "      <td>2.9044</td>\n",
       "    </tr>\n",
       "  </tbody>\n",
       "</table>\n",
       "<p>111 rows × 5 columns</p>\n",
       "</div>"
      ],
      "text/plain": [
       "     Length1  Length2  Length3   Height   Width\n",
       "53      25.0     27.0     30.6   8.5680  4.7736\n",
       "117     36.5     39.0     41.4  11.1366  6.0030\n",
       "136     40.1     43.0     45.8   7.7860  5.1296\n",
       "17      30.4     33.0     38.5  14.9380  5.1975\n",
       "77      16.2     18.0     19.2   5.2224  3.3216\n",
       "..       ...      ...      ...      ...     ...\n",
       "133     36.0     38.5     41.0   6.3960  3.9770\n",
       "137     42.0     45.0     48.0   6.9600  4.8960\n",
       "72       7.5      8.4      8.8   2.1120  1.4080\n",
       "140     48.3     51.7     55.1   8.9262  6.1712\n",
       "37      17.5     18.8     21.2   5.5756  2.9044\n",
       "\n",
       "[111 rows x 5 columns]"
      ]
     },
     "execution_count": 7,
     "metadata": {},
     "output_type": "execute_result"
    }
   ],
   "source": [
    "X_train"
   ]
  },
  {
   "cell_type": "code",
   "execution_count": 8,
   "id": "acae8447-24ad-477f-8ca6-c97f45ee894d",
   "metadata": {
    "colab": {
     "base_uri": "https://localhost:8080/"
    },
    "id": "acae8447-24ad-477f-8ca6-c97f45ee894d",
    "outputId": "d365d4f7-013f-4ba4-9ae6-63c7b4aec757"
   },
   "outputs": [
    {
     "data": {
      "text/plain": [
       "53     272.0\n",
       "117    650.0\n",
       "136    540.0\n",
       "17     700.0\n",
       "77     100.0\n",
       "       ...  \n",
       "133    345.0\n",
       "137    500.0\n",
       "72       5.9\n",
       "140    950.0\n",
       "37      78.0\n",
       "Name: Weight, Length: 111, dtype: float64"
      ]
     },
     "execution_count": 8,
     "metadata": {},
     "output_type": "execute_result"
    }
   ],
   "source": [
    "y_train"
   ]
  },
  {
   "cell_type": "markdown",
   "id": "b228ecea-57a1-4fdd-b717-03985f590847",
   "metadata": {
    "id": "b228ecea-57a1-4fdd-b717-03985f590847"
   },
   "source": [
    "and here we convert data frames to numpy array"
   ]
  },
  {
   "cell_type": "code",
   "execution_count": 9,
   "id": "abd8c91e-ec04-43ec-9910-e6e588e02475",
   "metadata": {
    "id": "abd8c91e-ec04-43ec-9910-e6e588e02475"
   },
   "outputs": [],
   "source": [
    "X_train = X_train.to_numpy()\n",
    "X_test = X_test.to_numpy()\n",
    "\n",
    "y_train = y_train.to_numpy()\n",
    "y_test = y_test.to_numpy()"
   ]
  },
  {
   "cell_type": "markdown",
   "id": "15e9df7e-32c5-47c5-923e-4059f4a07f30",
   "metadata": {
    "id": "15e9df7e-32c5-47c5-923e-4059f4a07f30"
   },
   "source": [
    "here we add one column of ones to X matrix, so we can predict bias for equations in solved W matrix."
   ]
  },
  {
   "cell_type": "code",
   "execution_count": 10,
   "id": "6c0c459c-c150-479b-8e33-37a80298f83f",
   "metadata": {
    "id": "6c0c459c-c150-479b-8e33-37a80298f83f"
   },
   "outputs": [],
   "source": [
    "x_train = np.append(np.ones((len(X_train), 1)), X_train, axis=1)\n",
    "x_test = np.append(np.ones((len(X_test), 1)), X_test, axis=1)"
   ]
  },
  {
   "cell_type": "markdown",
   "id": "6576fda8-9f51-4dd3-80a1-995f68a13822",
   "metadata": {
    "id": "6576fda8-9f51-4dd3-80a1-995f68a13822"
   },
   "source": [
    "## 1. closed from linear regression\n",
    "first, we get the results from a closed linear regression model that it's loss error function is:\n",
    "$$\\lVert y - Xw \\rVert_2^2$$\n",
    "and the solution for w is:\n",
    "\n",
    "$$w =(x^T x)^{-1} x^T y$$\n",
    "\n",
    "so we obtain weight matrix (w) and we use it to predict weights in test set. we obtain the error of prediction by using mean square error:\n",
    "$$error = \\frac{1}{n} \\sum_{i=1}^{n}(y_i - X_iw)^2$$"
   ]
  },
  {
   "cell_type": "code",
   "execution_count": 11,
   "id": "0a30b22a-2497-4a65-8ad5-4458f7372bf6",
   "metadata": {
    "colab": {
     "base_uri": "https://localhost:8080/"
    },
    "id": "0a30b22a-2497-4a65-8ad5-4458f7372bf6",
    "outputId": "f27ddcdf-731c-4608-ed7e-246ad97ac48b"
   },
   "outputs": [
    {
     "data": {
      "text/plain": [
       "16062.711813979142"
      ]
     },
     "execution_count": 11,
     "metadata": {},
     "output_type": "execute_result"
    }
   ],
   "source": [
    "W = np.dot((np.linalg.inv(np.dot(x_train.T, x_train))), np.dot(x_train.T, y_train))\n",
    "predict = np.dot(x_test, W)\n",
    "diff = predict - y_test\n",
    "error = np.sum(diff * diff)/len(diff)\n",
    "error"
   ]
  },
  {
   "cell_type": "markdown",
   "id": "7b575cdf-ed60-45d7-95e2-c7dc0c228af9",
   "metadata": {
    "id": "7b575cdf-ed60-45d7-95e2-c7dc0c228af9"
   },
   "source": [
    "so in the above code, you can see that we find W matrix and we predict weights of the fish in test set and we obtain the MSE error that is equal to 16062.71 which is a high number and it's not good enough for predicting."
   ]
  },
  {
   "cell_type": "markdown",
   "id": "xnCMFPDH2DQw",
   "metadata": {
    "id": "xnCMFPDH2DQw"
   },
   "source": [
    "## 2. Ridge regresson\n",
    "here we use ridge regression for our model to predict the weights values. we use the scikit learn Ridge package and we test our model on different alpha values and we obtain the model with best accuracy (minimum mse error) on test set. we know that ridge regression loss function is:\n",
    "\n",
    "$$L(w) = \\frac{1}{n}\\sum_{i=1}^{n}(y+i - X_iw)^2 + alpha * \\sum_{j=1}^{m}w_j^2$$"
   ]
  },
  {
   "cell_type": "code",
   "execution_count": 12,
   "id": "ADhkhpMz27rQ",
   "metadata": {
    "colab": {
     "base_uri": "https://localhost:8080/"
    },
    "id": "ADhkhpMz27rQ",
    "outputId": "5f8f978a-4aa8-4994-f28a-d14acf6a59fe"
   },
   "outputs": [
    {
     "name": "stdout",
     "output_type": "stream",
     "text": [
      "best model parameters:  {'alpha': 167, 'copy_X': True, 'fit_intercept': True, 'max_iter': None, 'normalize': 'deprecated', 'positive': False, 'random_state': None, 'solver': 'auto', 'tol': 0.001}\n",
      "minimum error on test set:  14465.68633911328\n"
     ]
    }
   ],
   "source": [
    "from sklearn.linear_model import Ridge\n",
    "from sklearn.metrics import mean_squared_error as mse\n",
    "best_model = None\n",
    "min_error = math.inf\n",
    "\n",
    "for i in range(1, 10000):\n",
    "  regr = Ridge(alpha=i)\n",
    "  regr.fit(X_train, y_train)\n",
    "  acc = mse(regr.predict(X_test), y_test)\n",
    "  if acc < min_error:\n",
    "    min_error = acc\n",
    "    best_model = regr\n",
    "\n",
    "print('best model parameters: ', best_model.get_params())\n",
    "print('minimum error on test set: ',min_error)"
   ]
  },
  {
   "cell_type": "markdown",
   "id": "L9BFdZhz4tSb",
   "metadata": {
    "id": "L9BFdZhz4tSb"
   },
   "source": [
    "In the above code, we see that the model with alpha = 167 has the best performance with 14465.67 mse error which is less than closed form linear regression model.\n",
    "\n",
    "also here we used RidgeCV function in sklearn.linear_model package that uses cross-validation for setting its alpha parameter."
   ]
  },
  {
   "cell_type": "code",
   "execution_count": 13,
   "id": "JxEyOn9l5PPU",
   "metadata": {
    "colab": {
     "base_uri": "https://localhost:8080/"
    },
    "id": "JxEyOn9l5PPU",
    "outputId": "739c4528-eea8-44ea-c4f3-f5515faa8e4e"
   },
   "outputs": [
    {
     "name": "stdout",
     "output_type": "stream",
     "text": [
      "15165.470702293294\n"
     ]
    }
   ],
   "source": [
    "from sklearn.linear_model import RidgeCV\n",
    "\n",
    "regr = RidgeCV(cv = 5, alphas = list(range(1, 2000))).fit(X_train, y_train)\n",
    "acc = mse(regr.predict(X_test), y_test)\n",
    "print(acc)\n"
   ]
  },
  {
   "cell_type": "markdown",
   "id": "OvDDE6cp6spC",
   "metadata": {
    "id": "OvDDE6cp6spC"
   },
   "source": [
    "## 3. Lasso regression\n",
    "\n",
    "here we use lasso regression for our model to predict the weights values. we use the scikit learn Lasso package and we test our model on different alpha values and we obtain the model with best accuracy (minimum mse error) on test set and we compare the results with Ridge regression model. we know that lasso regression loss function is:\n",
    "\n",
    "$$L(w) = \\frac{1}{n}\\sum_{i=1}^{n}(y+i - X_iw)^2 + alpha * \\sum_{j=1}^{m}\\lvert w_j \\rvert$$"
   ]
  },
  {
   "cell_type": "code",
   "execution_count": 14,
   "id": "iJ8sgvJ07ZKr",
   "metadata": {
    "colab": {
     "base_uri": "https://localhost:8080/"
    },
    "id": "iJ8sgvJ07ZKr",
    "outputId": "cfe8c29e-c285-4bea-9401-2c3adf7389c8"
   },
   "outputs": [
    {
     "name": "stdout",
     "output_type": "stream",
     "text": [
      "best model parameters:  {'alpha': 28, 'copy_X': True, 'fit_intercept': True, 'max_iter': 10000, 'normalize': 'deprecated', 'positive': False, 'precompute': False, 'random_state': None, 'selection': 'cyclic', 'tol': 0.0001, 'warm_start': False}\n",
      "minimum error on test set:  14513.670665574979\n"
     ]
    }
   ],
   "source": [
    "from sklearn.linear_model import Lasso\n",
    "from sklearn.metrics import mean_squared_error as mse\n",
    "best_model = None\n",
    "min_error = math.inf\n",
    "\n",
    "for i in range(1, 100):\n",
    "  regr = Lasso(alpha=i, max_iter = 10000)\n",
    "  regr.fit(X_train, y_train)\n",
    "  acc = mse(regr.predict(X_test), y_test)\n",
    "  if acc < min_error:\n",
    "    min_error = acc\n",
    "    best_model = regr\n",
    "\n",
    "print('best model parameters: ', best_model.get_params())\n",
    "print('minimum error on test set: ',min_error)"
   ]
  },
  {
   "cell_type": "markdown",
   "id": "gadavzNn9_hs",
   "metadata": {
    "id": "gadavzNn9_hs"
   },
   "source": [
    "In the above result, we see that minimum mse error is a bit more than the best ridge error and its near to the ridge result. we can also train lasso regression with cross validation using LassoCV function."
   ]
  },
  {
   "cell_type": "code",
   "execution_count": 15,
   "id": "2agTQWSS-WFa",
   "metadata": {
    "colab": {
     "base_uri": "https://localhost:8080/"
    },
    "id": "2agTQWSS-WFa",
    "outputId": "9db48f10-3a5a-4e2b-dde5-f81a683b7cee"
   },
   "outputs": [
    {
     "name": "stdout",
     "output_type": "stream",
     "text": [
      "14972.495168801703\n"
     ]
    }
   ],
   "source": [
    "from sklearn.linear_model import LassoCV\n",
    "\n",
    "regr = LassoCV(cv = 5, alphas = list(range(1, 100)), max_iter=10000).fit(X_train, y_train)\n",
    "acc = mse(regr.predict(X_test), y_test)\n",
    "print(acc)\n"
   ]
  },
  {
   "cell_type": "markdown",
   "id": "3c8d0277-fd3e-40cd-9441-3f2be67b27ae",
   "metadata": {
    "id": "3c8d0277-fd3e-40cd-9441-3f2be67b27ae"
   },
   "source": [
    "## 4. elastic net regression\n",
    "here we implemented the elastic net regression and we use this model for predicting. also we can convert this model to ridge regression model when we set the l_ratio parameter equal to zero and we can obtain lasso regression when we set the l_ratio parameter equal to one. here we optimize the loss function of this model by using the gradient method. the loss function for elastic net regression is:\n",
    "\n",
    "$$L(w) = \\frac{1}{n}\\sum_{i=1}^{n}(y_i - X_iw)^2 + alpha * l * \\sum_{j=1}^{m} \\lvert w_j \\rvert + l * 0.5 * (1 - alpha) * \\sum_{j=1}^{m} w_j^2$$\n",
    "\n",
    "**hint**: in this implementation, before using the model you must add one column of ones to train set for getting the predictions."
   ]
  },
  {
   "cell_type": "code",
   "execution_count": 16,
   "id": "7IJBos77_09I",
   "metadata": {
    "colab": {
     "base_uri": "https://localhost:8080/"
    },
    "id": "7IJBos77_09I",
    "outputId": "1c0b8fe2-5673-4564-d7a2-75f686a60464"
   },
   "outputs": [
    {
     "name": "stdout",
     "output_type": "stream",
     "text": [
      "best model parameters:  {'alpha': 7, 'copy_X': True, 'fit_intercept': True, 'l1_ratio': 0.87, 'max_iter': 10000, 'normalize': 'deprecated', 'positive': False, 'precompute': False, 'random_state': None, 'selection': 'cyclic', 'tol': 0.0001, 'warm_start': False}\n",
      "minimum error on test set:  14434.058103846255\n"
     ]
    }
   ],
   "source": [
    "from sklearn.linear_model import ElasticNet\n",
    "from sklearn.metrics import mean_squared_error as mse\n",
    "best_model = None\n",
    "min_error = math.inf\n",
    "\n",
    "for i in range(1, 1000):\n",
    "  for j in range(1, 99):\n",
    "    regr = ElasticNet(alpha=i, l1_ratio= j/100, max_iter = 10000)\n",
    "    regr.fit(X_train, y_train)\n",
    "    acc = mse(regr.predict(X_test), y_test)\n",
    "    if acc < min_error:\n",
    "      min_error = acc\n",
    "      best_model = regr\n",
    "\n",
    "print('best model parameters: ', best_model.get_params())\n",
    "print('minimum error on test set: ',min_error)"
   ]
  },
  {
   "cell_type": "markdown",
   "id": "HPuoDZn6A93E",
   "metadata": {
    "id": "HPuoDZn6A93E"
   },
   "source": [
    "In the above result, we can see that ElasticNet best result is a bit lower (better) than Ridge regression and its value is very near to Ridge regression best model mse error. akso here we can train elastic net with cross validation using ElasticNetCV "
   ]
  },
  {
   "cell_type": "code",
   "execution_count": null,
   "id": "1xzMAOvJBVNk",
   "metadata": {
    "colab": {
     "base_uri": "https://localhost:8080/"
    },
    "id": "1xzMAOvJBVNk",
    "outputId": "54179035-9465-46a2-a834-cb1444454b4f"
   },
   "outputs": [
    {
     "name": "stdout",
     "output_type": "stream",
     "text": [
      "14439.755244981556\n"
     ]
    }
   ],
   "source": [
    "from sklearn.linear_model import ElasticNetCV\n",
    "best_model = None\n",
    "min_error = math.inf\n",
    "\n",
    "for i in range(1, 100):\n",
    "  regr = ElasticNetCV(cv = 5, l1_ratio=i/100).fit(X_train, y_train)\n",
    "  acc = mse(regr.predict(X_test), y_test)\n",
    "  if acc < min_error:\n",
    "    min_error = acc\n",
    "    best_model = regr\n",
    "\n",
    "print(min_error)\n"
   ]
  },
  {
   "cell_type": "markdown",
   "id": "c02dabdc-266f-4aab-b672-22aedaecda0d",
   "metadata": {},
   "source": [
    "here, we can get the best model parameters that we achieved by using cross-validation."
   ]
  },
  {
   "cell_type": "code",
   "execution_count": 18,
   "id": "J2r1ckbSCKsg",
   "metadata": {
    "colab": {
     "base_uri": "https://localhost:8080/"
    },
    "id": "J2r1ckbSCKsg",
    "outputId": "7ffb82f1-5087-4bb1-efa1-8368ac956fd8"
   },
   "outputs": [
    {
     "data": {
      "text/plain": [
       "5.223482878455851"
      ]
     },
     "execution_count": 18,
     "metadata": {},
     "output_type": "execute_result"
    }
   ],
   "source": [
    "best_model.alpha_"
   ]
  },
  {
   "cell_type": "code",
   "execution_count": 19,
   "id": "VeFcxZ3WCN5d",
   "metadata": {
    "colab": {
     "base_uri": "https://localhost:8080/"
    },
    "id": "VeFcxZ3WCN5d",
    "outputId": "c4f81cd7-1b0a-4d59-e4be-61aeab60ee5e",
    "tags": []
   },
   "outputs": [
    {
     "data": {
      "text/plain": [
       "0.77"
      ]
     },
     "execution_count": 19,
     "metadata": {},
     "output_type": "execute_result"
    }
   ],
   "source": [
    "best_model.l1_ratio_"
   ]
  },
  {
   "cell_type": "markdown",
   "id": "fc8e6005-9a94-4eef-b131-c54c90d4db32",
   "metadata": {},
   "source": [
    "At the end, my opinion is that, linear regression is not a good model for predicting weights of the fish in this dataset!"
   ]
  }
 ],
 "metadata": {
  "colab": {
   "collapsed_sections": [],
   "provenance": []
  },
  "kernelspec": {
   "display_name": "Python 3 (ipykernel)",
   "language": "python",
   "name": "python3"
  },
  "language_info": {
   "codemirror_mode": {
    "name": "ipython",
    "version": 3
   },
   "file_extension": ".py",
   "mimetype": "text/x-python",
   "name": "python",
   "nbconvert_exporter": "python",
   "pygments_lexer": "ipython3",
   "version": "3.10.0"
  }
 },
 "nbformat": 4,
 "nbformat_minor": 5
}
